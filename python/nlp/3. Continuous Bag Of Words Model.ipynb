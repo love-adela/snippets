{
 "cells": [
  {
   "cell_type": "markdown",
   "metadata": {},
   "source": [
    "## 데이터 읽어들이기"
   ]
  },
  {
   "cell_type": "code",
   "execution_count": 1,
   "metadata": {},
   "outputs": [],
   "source": [
    "train_data, test_data = [], []\n",
    "\n",
    "for line in open(\"data/ratings_train_tokenized.txt\", \"r\", encoding=\"utf-8\").readlines():\n",
    "    _, tokens, label = line.strip().split(\"\\u241E\")\n",
    "    train_data.append([tokens.split(), label])\n",
    "\n",
    "for line in open(\"data/ratings_test_tokenized.txt\", \"r\", encoding=\"utf-8\").readlines():\n",
    "    _, tokens, label = line.strip().split(\"\\u241E\")\n",
    "    test_data.append([tokens.split(), label])"
   ]
  },
  {
   "cell_type": "code",
   "execution_count": 2,
   "metadata": {},
   "outputs": [
    {
     "data": {
      "text/html": [
       "<div>\n",
       "<style scoped>\n",
       "    .dataframe tbody tr th:only-of-type {\n",
       "        vertical-align: middle;\n",
       "    }\n",
       "\n",
       "    .dataframe tbody tr th {\n",
       "        vertical-align: top;\n",
       "    }\n",
       "\n",
       "    .dataframe thead th {\n",
       "        text-align: right;\n",
       "    }\n",
       "</style>\n",
       "<table border=\"1\" class=\"dataframe\">\n",
       "  <thead>\n",
       "    <tr style=\"text-align: right;\">\n",
       "      <th></th>\n",
       "      <th>0</th>\n",
       "      <th>1</th>\n",
       "    </tr>\n",
       "  </thead>\n",
       "  <tbody>\n",
       "    <tr>\n",
       "      <th>0</th>\n",
       "      <td>[아, 더, 빙, ., ., 진짜, 짜증, 나, 네요, 목소리]</td>\n",
       "      <td>0</td>\n",
       "    </tr>\n",
       "    <tr>\n",
       "      <th>1</th>\n",
       "      <td>[흠, ., .., 포스터, 보고, 초딩, 영화, 줄, ., ..., 오버, 연기,...</td>\n",
       "      <td>1</td>\n",
       "    </tr>\n",
       "    <tr>\n",
       "      <th>2</th>\n",
       "      <td>[너무, 재, 밓었다그래서보는것을추천한다]</td>\n",
       "      <td>0</td>\n",
       "    </tr>\n",
       "    <tr>\n",
       "      <th>3</th>\n",
       "      <td>[교도소, 이야기, 구먼, ., ., 솔직히, 재미, 는, 없, 다, ., ., 평...</td>\n",
       "      <td>0</td>\n",
       "    </tr>\n",
       "    <tr>\n",
       "      <th>4</th>\n",
       "      <td>[사이몬페그, 의, 익살, 스런, 연기, 가, 돋보였, 던, 영화, !, 스파이더맨...</td>\n",
       "      <td>1</td>\n",
       "    </tr>\n",
       "    <tr>\n",
       "      <th>5</th>\n",
       "      <td>[막, 걸음마, 뗀, 3, 세, 부터, 초등, 학교, 1, 학년, 생, 인, 8, ...</td>\n",
       "      <td>0</td>\n",
       "    </tr>\n",
       "    <tr>\n",
       "      <th>6</th>\n",
       "      <td>[원작, 의, 긴장감, 을, 제대로, 살려, 내, 지, 못했, 다, .]</td>\n",
       "      <td>0</td>\n",
       "    </tr>\n",
       "    <tr>\n",
       "      <th>7</th>\n",
       "      <td>[별, 반개, 도, 아깝, 다, 욕, 나온다, 이응경, 길용우, 연기, 생활, 이,...</td>\n",
       "      <td>0</td>\n",
       "    </tr>\n",
       "    <tr>\n",
       "      <th>8</th>\n",
       "      <td>[액션, 이, 없, 는데, 도, 재미, 있, 는, 몇, 안, 되, 는, 영화]</td>\n",
       "      <td>1</td>\n",
       "    </tr>\n",
       "    <tr>\n",
       "      <th>9</th>\n",
       "      <td>[왜, 케, 평점, 이, 낮, 은, 건데, ?, 꽤, 볼, 만한데, ., ., 헐리...</td>\n",
       "      <td>1</td>\n",
       "    </tr>\n",
       "  </tbody>\n",
       "</table>\n",
       "</div>"
      ],
      "text/plain": [
       "                                                   0  1\n",
       "0                [아, 더, 빙, ., ., 진짜, 짜증, 나, 네요, 목소리]  0\n",
       "1  [흠, ., .., 포스터, 보고, 초딩, 영화, 줄, ., ..., 오버, 연기,...  1\n",
       "2                            [너무, 재, 밓었다그래서보는것을추천한다]  0\n",
       "3  [교도소, 이야기, 구먼, ., ., 솔직히, 재미, 는, 없, 다, ., ., 평...  0\n",
       "4  [사이몬페그, 의, 익살, 스런, 연기, 가, 돋보였, 던, 영화, !, 스파이더맨...  1\n",
       "5  [막, 걸음마, 뗀, 3, 세, 부터, 초등, 학교, 1, 학년, 생, 인, 8, ...  0\n",
       "6           [원작, 의, 긴장감, 을, 제대로, 살려, 내, 지, 못했, 다, .]  0\n",
       "7  [별, 반개, 도, 아깝, 다, 욕, 나온다, 이응경, 길용우, 연기, 생활, 이,...  0\n",
       "8        [액션, 이, 없, 는데, 도, 재미, 있, 는, 몇, 안, 되, 는, 영화]  1\n",
       "9  [왜, 케, 평점, 이, 낮, 은, 건데, ?, 꽤, 볼, 만한데, ., ., 헐리...  1"
      ]
     },
     "execution_count": 2,
     "metadata": {},
     "output_type": "execute_result"
    }
   ],
   "source": [
    "import pandas as pd\n",
    "pd.DataFrame(train_data[:10])"
   ]
  },
  {
   "cell_type": "markdown",
   "metadata": {},
   "source": [
    "## 임베딩 읽어들이기"
   ]
  },
  {
   "cell_type": "code",
   "execution_count": 3,
   "metadata": {},
   "outputs": [],
   "source": [
    "import numpy as np\n",
    "from collections import defaultdict\n",
    "\n",
    "def load_ft_embeddings(path):\n",
    "    embeddings = defaultdict(list)\n",
    "    for line in open(path, \"r\", encoding=\"utf-8\").readlines()[1:]:\n",
    "        splited_line = line.strip().split(\" \")\n",
    "        word = splited_line[0]\n",
    "        vec = [float(el) for el in splited_line[1:]]\n",
    "        embeddings[word] = vec / np.linalg.norm(vec)\n",
    "    return embeddings"
   ]
  },
  {
   "cell_type": "code",
   "execution_count": 4,
   "metadata": {},
   "outputs": [],
   "source": [
    "embeddings = load_ft_embeddings(\"embedding/fasttext.vec\")"
   ]
  },
  {
   "cell_type": "markdown",
   "metadata": {},
   "source": [
    "## word to sentence-level embedding"
   ]
  },
  {
   "cell_type": "code",
   "execution_count": 5,
   "metadata": {},
   "outputs": [],
   "source": [
    "def get_sentence_vector(tokens, dim=100):\n",
    "    vector = np.zeros(dim)\n",
    "    for token in tokens:\n",
    "        if token in embeddings.keys():\n",
    "            vector += embeddings[token]\n",
    "    if len(tokens) > 1:\n",
    "        vector /= len(tokens)\n",
    "    vector_norm = np.linalg.norm(vector)\n",
    "    if vector_norm != 0:\n",
    "        unit_vector = vector / vector_norm\n",
    "    else:\n",
    "        unit_vector = np.zeros(dim)\n",
    "    return unit_vector"
   ]
  },
  {
   "cell_type": "markdown",
   "metadata": {},
   "source": [
    "## train"
   ]
  },
  {
   "cell_type": "code",
   "execution_count": 6,
   "metadata": {},
   "outputs": [],
   "source": [
    "train_table = np.zeros([len(train_data), 100], dtype=np.float16)\n",
    "train_labels = []\n",
    "for idx, train_instance in enumerate(train_data):\n",
    "    tokens, label = train_instance\n",
    "    sent_vec = get_sentence_vector(tokens)\n",
    "    train_table[idx] = sent_vec\n",
    "    train_labels.append(label)"
   ]
  },
  {
   "cell_type": "markdown",
   "metadata": {},
   "source": [
    "## predict"
   ]
  },
  {
   "cell_type": "code",
   "execution_count": 7,
   "metadata": {},
   "outputs": [],
   "source": [
    "def predict(tokens):\n",
    "    sent_vec = get_sentence_vector(tokens)\n",
    "    scores = np.dot(train_table, sent_vec)\n",
    "    pred = train_labels[np.argmax(scores)]\n",
    "    return pred"
   ]
  },
  {
   "cell_type": "code",
   "execution_count": 8,
   "metadata": {},
   "outputs": [
    {
     "name": "stdout",
     "output_type": "stream",
     "text": [
      "[['굳', 'ㅋ'], '1']\n"
     ]
    }
   ],
   "source": [
    "print(test_data[0])"
   ]
  },
  {
   "cell_type": "code",
   "execution_count": 9,
   "metadata": {},
   "outputs": [
    {
     "data": {
      "text/plain": [
       "'1'"
      ]
     },
     "execution_count": 9,
     "metadata": {},
     "output_type": "execute_result"
    }
   ],
   "source": [
    "predict(test_data[0][0])"
   ]
  },
  {
   "cell_type": "code",
   "execution_count": 10,
   "metadata": {},
   "outputs": [],
   "source": [
    "def predict_by_batch(sentences, labels):\n",
    "    sentence_vectors, eval_score = [], 0\n",
    "    for tokens in sentences:\n",
    "        sentence_vectors.append(get_sentence_vector(tokens))\n",
    "    scores = np.dot(train_table, np.array(sentence_vectors).T)\n",
    "    preds = np.argmax(scores, axis=0)\n",
    "    for pred, label in zip(preds, labels):\n",
    "        if train_labels[pred] == label:\n",
    "            eval_score += 1\n",
    "    return preds, eval_score"
   ]
  },
  {
   "cell_type": "markdown",
   "metadata": {},
   "source": [
    "## evaluation"
   ]
  },
  {
   "cell_type": "code",
   "execution_count": 11,
   "metadata": {},
   "outputs": [],
   "source": [
    "batch_size = 3000\n",
    "data_size = len(test_data)\n",
    "num_batches = int((data_size - 1) / batch_size) + 1\n",
    "eval_score = 0\n",
    "for batch_num in range(num_batches):\n",
    "    batch_tokenized_sentences = []\n",
    "    batch_labels = []\n",
    "    start_index = batch_num * batch_size\n",
    "    end_index = min((batch_num + 1) * batch_size, data_size)\n",
    "    features = test_data[start_index:end_index]\n",
    "    for feature in features:\n",
    "        tokens, label = feature\n",
    "        batch_tokenized_sentences.append(tokens)\n",
    "        batch_labels.append(label)\n",
    "    preds, curr_eval_score = predict_by_batch(batch_tokenized_sentences, batch_labels)\n",
    "    eval_score += curr_eval_score"
   ]
  },
  {
   "cell_type": "code",
   "execution_count": 12,
   "metadata": {},
   "outputs": [
    {
     "name": "stdout",
     "output_type": "stream",
     "text": [
      "# of correct: 35533 , total: 49997 , score: 0.7107026421585295\n"
     ]
    }
   ],
   "source": [
    "print(\"# of correct:\", str(eval_score), \", total:\", str(len(test_data)), \", score:\", str(eval_score / len(test_data)))"
   ]
  }
 ],
 "metadata": {
  "kernelspec": {
   "display_name": "Python 3",
   "language": "python",
   "name": "python3"
  },
  "language_info": {
   "codemirror_mode": {
    "name": "ipython",
    "version": 3
   },
   "file_extension": ".py",
   "mimetype": "text/x-python",
   "name": "python",
   "nbconvert_exporter": "python",
   "pygments_lexer": "ipython3",
   "version": "3.6.5"
  }
 },
 "nbformat": 4,
 "nbformat_minor": 2
}
